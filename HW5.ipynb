{
 "cells": [
  {
   "cell_type": "markdown",
   "id": "1837cd03",
   "metadata": {},
   "source": [
    "### Homework 5"
   ]
  },
  {
   "cell_type": "markdown",
   "id": "6d19d983",
   "metadata": {},
   "source": [
    "#### 1. Import libraries and read the data"
   ]
  },
  {
   "cell_type": "code",
   "execution_count": null,
   "id": "818c2903",
   "metadata": {},
   "outputs": [],
   "source": [
    "import altair as alt\n",
    "import numpy as np\n",
    "import pandas as pd\n",
    "import geopandas as gpd"
   ]
  },
  {
   "cell_type": "code",
   "execution_count": null,
   "id": "7be58703",
   "metadata": {},
   "outputs": [],
   "source": [
    "population_df = pd.read_csv('population_trends.csv')\n",
    "population_df"
   ]
  },
  {
   "cell_type": "code",
   "execution_count": null,
   "id": "04a9ee4f",
   "metadata": {},
   "outputs": [],
   "source": [
    "ukraine_df = gpd.read_file('ukraine.json')\n",
    "ukraine_df.head()"
   ]
  },
  {
   "cell_type": "markdown",
   "id": "9058b84a",
   "metadata": {},
   "source": [
    "#### 2. Карта, котра відображає рівень приросту / скорочення населення за регіонами станом на останній доступний рік\n",
    "Останній доступний рік у поданому датасеті - 2019, тому в цьому завданні використаний цей рік. Спочатку створюємо базу карти, щоб могти відобразити сірим кольором ті регіони для яких не будуть доступні дані за 2019 рік, а як наступний крок - створюємо основну карту з даними, подаючи кольористику 'reds', оскільки так було подано у прикладі."
   ]
  },
  {
   "cell_type": "code",
   "execution_count": null,
   "id": "3b71faab",
   "metadata": {},
   "outputs": [],
   "source": [
    "df_2019 = population_df[(population_df[\"year\"] == 2019)]\n",
    "ukraine_df.rename(columns={'NAME_1':'region'}, inplace=True)\n",
    "df1 = ukraine_df.merge(df_2019)\n",
    "df1.head()"
   ]
  },
  {
   "cell_type": "code",
   "execution_count": null,
   "id": "235cd495",
   "metadata": {},
   "outputs": [],
   "source": [
    "map1 = alt.Chart(ukraine_df).mark_geoshape(fill = 'lightgray', stroke = 'white', strokeWidth = 1)\n",
    "map2 = alt.Chart(df1).mark_geoshape(stroke = 'white').encode(color = alt.Color('rate:Q',\n",
    "                                                       scale = alt.Scale(scheme = 'reds',\n",
    "                                                                         reverse=True),\n",
    "                                                       title='Rate',\n",
    "                                                       legend=alt.Legend(orient='bottom-left',\n",
    "                                                                         tickCount=7,\n",
    "                                                                         gradientLength = 200)),\n",
    "                                     tooltip = [alt.Tooltip('region:N'),\n",
    "                                                alt.Tooltip('rate:N')])\n",
    "(map1 + map2).properties(width = 900, height = 650, title = \"Ukraine regions' population change rates in 2019\")"
   ]
  },
  {
   "cell_type": "markdown",
   "id": "8789459c",
   "metadata": {},
   "source": [
    "#### 3. Лінійний графік, котрий відображає рівень приросту / скорочення населення за регіонами за всіма роками (одна лінія на графіку - один регіон)\n",
    "Тут, на відміну від поданого прикладу, вирішила ще додати колір для кожної лінії, щоб було легше розрізняти який регіон представлений цією лінією і також заодно додається легенда для кожного регіону."
   ]
  },
  {
   "cell_type": "code",
   "execution_count": null,
   "id": "063bd893",
   "metadata": {},
   "outputs": [],
   "source": [
    "linear_vis = alt.Chart(population_df).mark_line().encode(x = alt.X('year:Q', \n",
    "                                                                   scale=alt.Scale(domain=[1988, 2020], nice=False),\n",
    "                                                                   axis = alt.Axis(format = \"1000f\")),\n",
    "                                                         y = alt.Y('rate:Q'),\n",
    "                                                         detail = alt.Detail('region:N'),\n",
    "                                                         color=alt.Color(\"region:N\"),\n",
    "                                                         tooltip = [alt.Tooltip('region:N'),\n",
    "                                                                    alt.Tooltip('year:N'),\n",
    "                                                                    alt.Tooltip('rate:N')]) "
   ]
  },
  {
   "cell_type": "code",
   "execution_count": null,
   "id": "d75da3b4",
   "metadata": {},
   "outputs": [],
   "source": [
    "#combine two visualizaions into one \n",
    "final_map = (map1 + map2).properties(width = 900, height = 650) \n",
    "final_linear = linear_vis.properties(width = 900, height = 650) \n",
    "alt.hconcat(final_map, final_linear).properties(background = '#F9F9F9', padding = 25)\n"
   ]
  }
 ],
 "metadata": {
  "kernelspec": {
   "display_name": "Python 3",
   "language": "python",
   "name": "python3"
  },
  "language_info": {
   "codemirror_mode": {
    "name": "ipython",
    "version": 3
   },
   "file_extension": ".py",
   "mimetype": "text/x-python",
   "name": "python",
   "nbconvert_exporter": "python",
   "pygments_lexer": "ipython3",
   "version": "3.6.13"
  }
 },
 "nbformat": 4,
 "nbformat_minor": 5
}
