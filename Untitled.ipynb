{
 "cells": [
  {
   "cell_type": "markdown",
   "id": "348d17a4",
   "metadata": {},
   "source": [
    "### Homework 5"
   ]
  },
  {
   "cell_type": "markdown",
   "id": "203e2110",
   "metadata": {},
   "source": [
    "#### 1. Import libraries and read the data"
   ]
  },
  {
   "cell_type": "code",
   "execution_count": null,
   "id": "7392be8a",
   "metadata": {},
   "outputs": [],
   "source": [
    "import altair as alt\n",
    "import numpy as np\n",
    "import pandas as pd\n",
    "import geopandas as gpd"
   ]
  },
  {
   "cell_type": "code",
   "execution_count": null,
   "id": "d6962073",
   "metadata": {},
   "outputs": [],
   "source": [
    "population_df = pd.read_csv('population_trends.csv')\n",
    "population_df"
   ]
  }
 ],
 "metadata": {
  "kernelspec": {
   "display_name": "Python 3",
   "language": "python",
   "name": "python3"
  },
  "language_info": {
   "codemirror_mode": {
    "name": "ipython",
    "version": 3
   },
   "file_extension": ".py",
   "mimetype": "text/x-python",
   "name": "python",
   "nbconvert_exporter": "python",
   "pygments_lexer": "ipython3",
   "version": "3.6.13"
  }
 },
 "nbformat": 4,
 "nbformat_minor": 5
}
